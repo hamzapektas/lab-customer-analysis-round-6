{
 "cells": [
  {
   "cell_type": "code",
   "execution_count": 1,
   "id": "c1045e81",
   "metadata": {},
   "outputs": [],
   "source": [
    "import pandas as pd\n",
    "import numpy as np\n",
    "import matplotlib.pyplot as plt\n",
    "import seaborn as sns \n",
    "marcusan = pd.read_csv('marketing_customer_analysis.csv')"
   ]
  },
  {
   "cell_type": "code",
   "execution_count": 2,
   "id": "cfda955f",
   "metadata": {},
   "outputs": [
    {
     "ename": "KeyError",
     "evalue": "\"['unnamed: 0'] not found in axis\"",
     "output_type": "error",
     "traceback": [
      "\u001b[1;31m---------------------------------------------------------------------------\u001b[0m",
      "\u001b[1;31mKeyError\u001b[0m                                  Traceback (most recent call last)",
      "\u001b[1;32m<ipython-input-2-e55b38627cc6>\u001b[0m in \u001b[0;36m<module>\u001b[1;34m\u001b[0m\n\u001b[0;32m      4\u001b[0m \u001b[0mmarcusan\u001b[0m\u001b[1;33m.\u001b[0m\u001b[0mcolumns\u001b[0m\u001b[1;33m=\u001b[0m\u001b[0mcols\u001b[0m\u001b[1;33m\u001b[0m\u001b[1;33m\u001b[0m\u001b[0m\n\u001b[0;32m      5\u001b[0m \u001b[1;33m\u001b[0m\u001b[0m\n\u001b[1;32m----> 6\u001b[1;33m \u001b[0mmarcusan\u001b[0m \u001b[1;33m=\u001b[0m \u001b[0mmarcusan\u001b[0m\u001b[1;33m.\u001b[0m\u001b[0mdrop\u001b[0m\u001b[1;33m(\u001b[0m\u001b[1;33m[\u001b[0m\u001b[1;34m'unnamed: 0'\u001b[0m\u001b[1;33m]\u001b[0m\u001b[1;33m,\u001b[0m \u001b[0maxis\u001b[0m\u001b[1;33m=\u001b[0m\u001b[1;36m1\u001b[0m\u001b[1;33m)\u001b[0m\u001b[1;33m\u001b[0m\u001b[1;33m\u001b[0m\u001b[0m\n\u001b[0m\u001b[0;32m      7\u001b[0m \u001b[0mmarcusan\u001b[0m\u001b[1;33m.\u001b[0m\u001b[0mhead\u001b[0m\u001b[1;33m(\u001b[0m\u001b[1;33m)\u001b[0m\u001b[1;33m\u001b[0m\u001b[1;33m\u001b[0m\u001b[0m\n",
      "\u001b[1;32m~\\anaconda3\\lib\\site-packages\\pandas\\core\\frame.py\u001b[0m in \u001b[0;36mdrop\u001b[1;34m(self, labels, axis, index, columns, level, inplace, errors)\u001b[0m\n\u001b[0;32m   4306\u001b[0m                 \u001b[0mweight\u001b[0m  \u001b[1;36m1.0\u001b[0m     \u001b[1;36m0.8\u001b[0m\u001b[1;33m\u001b[0m\u001b[1;33m\u001b[0m\u001b[0m\n\u001b[0;32m   4307\u001b[0m         \"\"\"\n\u001b[1;32m-> 4308\u001b[1;33m         return super().drop(\n\u001b[0m\u001b[0;32m   4309\u001b[0m             \u001b[0mlabels\u001b[0m\u001b[1;33m=\u001b[0m\u001b[0mlabels\u001b[0m\u001b[1;33m,\u001b[0m\u001b[1;33m\u001b[0m\u001b[1;33m\u001b[0m\u001b[0m\n\u001b[0;32m   4310\u001b[0m             \u001b[0maxis\u001b[0m\u001b[1;33m=\u001b[0m\u001b[0maxis\u001b[0m\u001b[1;33m,\u001b[0m\u001b[1;33m\u001b[0m\u001b[1;33m\u001b[0m\u001b[0m\n",
      "\u001b[1;32m~\\anaconda3\\lib\\site-packages\\pandas\\core\\generic.py\u001b[0m in \u001b[0;36mdrop\u001b[1;34m(self, labels, axis, index, columns, level, inplace, errors)\u001b[0m\n\u001b[0;32m   4151\u001b[0m         \u001b[1;32mfor\u001b[0m \u001b[0maxis\u001b[0m\u001b[1;33m,\u001b[0m \u001b[0mlabels\u001b[0m \u001b[1;32min\u001b[0m \u001b[0maxes\u001b[0m\u001b[1;33m.\u001b[0m\u001b[0mitems\u001b[0m\u001b[1;33m(\u001b[0m\u001b[1;33m)\u001b[0m\u001b[1;33m:\u001b[0m\u001b[1;33m\u001b[0m\u001b[1;33m\u001b[0m\u001b[0m\n\u001b[0;32m   4152\u001b[0m             \u001b[1;32mif\u001b[0m \u001b[0mlabels\u001b[0m \u001b[1;32mis\u001b[0m \u001b[1;32mnot\u001b[0m \u001b[1;32mNone\u001b[0m\u001b[1;33m:\u001b[0m\u001b[1;33m\u001b[0m\u001b[1;33m\u001b[0m\u001b[0m\n\u001b[1;32m-> 4153\u001b[1;33m                 \u001b[0mobj\u001b[0m \u001b[1;33m=\u001b[0m \u001b[0mobj\u001b[0m\u001b[1;33m.\u001b[0m\u001b[0m_drop_axis\u001b[0m\u001b[1;33m(\u001b[0m\u001b[0mlabels\u001b[0m\u001b[1;33m,\u001b[0m \u001b[0maxis\u001b[0m\u001b[1;33m,\u001b[0m \u001b[0mlevel\u001b[0m\u001b[1;33m=\u001b[0m\u001b[0mlevel\u001b[0m\u001b[1;33m,\u001b[0m \u001b[0merrors\u001b[0m\u001b[1;33m=\u001b[0m\u001b[0merrors\u001b[0m\u001b[1;33m)\u001b[0m\u001b[1;33m\u001b[0m\u001b[1;33m\u001b[0m\u001b[0m\n\u001b[0m\u001b[0;32m   4154\u001b[0m \u001b[1;33m\u001b[0m\u001b[0m\n\u001b[0;32m   4155\u001b[0m         \u001b[1;32mif\u001b[0m \u001b[0minplace\u001b[0m\u001b[1;33m:\u001b[0m\u001b[1;33m\u001b[0m\u001b[1;33m\u001b[0m\u001b[0m\n",
      "\u001b[1;32m~\\anaconda3\\lib\\site-packages\\pandas\\core\\generic.py\u001b[0m in \u001b[0;36m_drop_axis\u001b[1;34m(self, labels, axis, level, errors)\u001b[0m\n\u001b[0;32m   4186\u001b[0m                 \u001b[0mnew_axis\u001b[0m \u001b[1;33m=\u001b[0m \u001b[0maxis\u001b[0m\u001b[1;33m.\u001b[0m\u001b[0mdrop\u001b[0m\u001b[1;33m(\u001b[0m\u001b[0mlabels\u001b[0m\u001b[1;33m,\u001b[0m \u001b[0mlevel\u001b[0m\u001b[1;33m=\u001b[0m\u001b[0mlevel\u001b[0m\u001b[1;33m,\u001b[0m \u001b[0merrors\u001b[0m\u001b[1;33m=\u001b[0m\u001b[0merrors\u001b[0m\u001b[1;33m)\u001b[0m\u001b[1;33m\u001b[0m\u001b[1;33m\u001b[0m\u001b[0m\n\u001b[0;32m   4187\u001b[0m             \u001b[1;32melse\u001b[0m\u001b[1;33m:\u001b[0m\u001b[1;33m\u001b[0m\u001b[1;33m\u001b[0m\u001b[0m\n\u001b[1;32m-> 4188\u001b[1;33m                 \u001b[0mnew_axis\u001b[0m \u001b[1;33m=\u001b[0m \u001b[0maxis\u001b[0m\u001b[1;33m.\u001b[0m\u001b[0mdrop\u001b[0m\u001b[1;33m(\u001b[0m\u001b[0mlabels\u001b[0m\u001b[1;33m,\u001b[0m \u001b[0merrors\u001b[0m\u001b[1;33m=\u001b[0m\u001b[0merrors\u001b[0m\u001b[1;33m)\u001b[0m\u001b[1;33m\u001b[0m\u001b[1;33m\u001b[0m\u001b[0m\n\u001b[0m\u001b[0;32m   4189\u001b[0m             \u001b[0mresult\u001b[0m \u001b[1;33m=\u001b[0m \u001b[0mself\u001b[0m\u001b[1;33m.\u001b[0m\u001b[0mreindex\u001b[0m\u001b[1;33m(\u001b[0m\u001b[1;33m**\u001b[0m\u001b[1;33m{\u001b[0m\u001b[0maxis_name\u001b[0m\u001b[1;33m:\u001b[0m \u001b[0mnew_axis\u001b[0m\u001b[1;33m}\u001b[0m\u001b[1;33m)\u001b[0m\u001b[1;33m\u001b[0m\u001b[1;33m\u001b[0m\u001b[0m\n\u001b[0;32m   4190\u001b[0m \u001b[1;33m\u001b[0m\u001b[0m\n",
      "\u001b[1;32m~\\anaconda3\\lib\\site-packages\\pandas\\core\\indexes\\base.py\u001b[0m in \u001b[0;36mdrop\u001b[1;34m(self, labels, errors)\u001b[0m\n\u001b[0;32m   5589\u001b[0m         \u001b[1;32mif\u001b[0m \u001b[0mmask\u001b[0m\u001b[1;33m.\u001b[0m\u001b[0many\u001b[0m\u001b[1;33m(\u001b[0m\u001b[1;33m)\u001b[0m\u001b[1;33m:\u001b[0m\u001b[1;33m\u001b[0m\u001b[1;33m\u001b[0m\u001b[0m\n\u001b[0;32m   5590\u001b[0m             \u001b[1;32mif\u001b[0m \u001b[0merrors\u001b[0m \u001b[1;33m!=\u001b[0m \u001b[1;34m\"ignore\"\u001b[0m\u001b[1;33m:\u001b[0m\u001b[1;33m\u001b[0m\u001b[1;33m\u001b[0m\u001b[0m\n\u001b[1;32m-> 5591\u001b[1;33m                 \u001b[1;32mraise\u001b[0m \u001b[0mKeyError\u001b[0m\u001b[1;33m(\u001b[0m\u001b[1;34mf\"{labels[mask]} not found in axis\"\u001b[0m\u001b[1;33m)\u001b[0m\u001b[1;33m\u001b[0m\u001b[1;33m\u001b[0m\u001b[0m\n\u001b[0m\u001b[0;32m   5592\u001b[0m             \u001b[0mindexer\u001b[0m \u001b[1;33m=\u001b[0m \u001b[0mindexer\u001b[0m\u001b[1;33m[\u001b[0m\u001b[1;33m~\u001b[0m\u001b[0mmask\u001b[0m\u001b[1;33m]\u001b[0m\u001b[1;33m\u001b[0m\u001b[1;33m\u001b[0m\u001b[0m\n\u001b[0;32m   5593\u001b[0m         \u001b[1;32mreturn\u001b[0m \u001b[0mself\u001b[0m\u001b[1;33m.\u001b[0m\u001b[0mdelete\u001b[0m\u001b[1;33m(\u001b[0m\u001b[0mindexer\u001b[0m\u001b[1;33m)\u001b[0m\u001b[1;33m\u001b[0m\u001b[1;33m\u001b[0m\u001b[0m\n",
      "\u001b[1;31mKeyError\u001b[0m: \"['unnamed: 0'] not found in axis\""
     ]
    }
   ],
   "source": [
    "cols=[]\n",
    "for c in marcusan.columns:\n",
    "    cols.append(c.lower())\n",
    "marcusan.columns=cols\n",
    "\n",
    "marcusan = marcusan.drop(['unnamed: 0'], axis=1)\n",
    "marcusan.head()"
   ]
  },
  {
   "cell_type": "code",
   "execution_count": 3,
   "id": "f60da77e",
   "metadata": {},
   "outputs": [
    {
     "data": {
      "text/plain": [
       "customer                          object\n",
       "state                             object\n",
       "customer lifetime value          float64\n",
       "response                          object\n",
       "coverage                          object\n",
       "education                         object\n",
       "effective to date                 object\n",
       "employmentstatus                  object\n",
       "gender                            object\n",
       "income                             int64\n",
       "location code                     object\n",
       "marital status                    object\n",
       "monthly premium auto               int64\n",
       "months since last claim            int64\n",
       "months since policy inception      int64\n",
       "number of open complaints          int64\n",
       "number of policies                 int64\n",
       "policy type                       object\n",
       "policy                            object\n",
       "renew offer type                  object\n",
       "sales channel                     object\n",
       "total claim amount               float64\n",
       "vehicle class                     object\n",
       "vehicle size                      object\n",
       "dtype: object"
      ]
     },
     "execution_count": 3,
     "metadata": {},
     "output_type": "execute_result"
    }
   ],
   "source": [
    "marcusan.dtypes"
   ]
  },
  {
   "cell_type": "code",
   "execution_count": 4,
   "id": "06506a83",
   "metadata": {},
   "outputs": [
    {
     "data": {
      "text/plain": [
       "customer                         0\n",
       "state                            0\n",
       "customer lifetime value          0\n",
       "response                         0\n",
       "coverage                         0\n",
       "education                        0\n",
       "effective to date                0\n",
       "employmentstatus                 0\n",
       "gender                           0\n",
       "income                           0\n",
       "location code                    0\n",
       "marital status                   0\n",
       "monthly premium auto             0\n",
       "months since last claim          0\n",
       "months since policy inception    0\n",
       "number of open complaints        0\n",
       "number of policies               0\n",
       "policy type                      0\n",
       "policy                           0\n",
       "renew offer type                 0\n",
       "sales channel                    0\n",
       "total claim amount               0\n",
       "vehicle class                    0\n",
       "vehicle size                     0\n",
       "dtype: int64"
      ]
     },
     "execution_count": 4,
     "metadata": {},
     "output_type": "execute_result"
    }
   ],
   "source": [
    "marcusan.isna().sum()"
   ]
  },
  {
   "cell_type": "code",
   "execution_count": 5,
   "id": "45a4779a",
   "metadata": {},
   "outputs": [
    {
     "data": {
      "text/html": [
       "<div>\n",
       "<style scoped>\n",
       "    .dataframe tbody tr th:only-of-type {\n",
       "        vertical-align: middle;\n",
       "    }\n",
       "\n",
       "    .dataframe tbody tr th {\n",
       "        vertical-align: top;\n",
       "    }\n",
       "\n",
       "    .dataframe thead th {\n",
       "        text-align: right;\n",
       "    }\n",
       "</style>\n",
       "<table border=\"1\" class=\"dataframe\">\n",
       "  <thead>\n",
       "    <tr style=\"text-align: right;\">\n",
       "      <th></th>\n",
       "      <th>customer lifetime value</th>\n",
       "      <th>income</th>\n",
       "      <th>monthly premium auto</th>\n",
       "      <th>months since last claim</th>\n",
       "      <th>months since policy inception</th>\n",
       "      <th>number of open complaints</th>\n",
       "      <th>number of policies</th>\n",
       "      <th>total claim amount</th>\n",
       "    </tr>\n",
       "  </thead>\n",
       "  <tbody>\n",
       "    <tr>\n",
       "      <th>0</th>\n",
       "      <td>2763.519279</td>\n",
       "      <td>56274</td>\n",
       "      <td>69</td>\n",
       "      <td>32</td>\n",
       "      <td>5</td>\n",
       "      <td>0</td>\n",
       "      <td>1</td>\n",
       "      <td>384.811147</td>\n",
       "    </tr>\n",
       "    <tr>\n",
       "      <th>1</th>\n",
       "      <td>6979.535903</td>\n",
       "      <td>0</td>\n",
       "      <td>94</td>\n",
       "      <td>13</td>\n",
       "      <td>42</td>\n",
       "      <td>0</td>\n",
       "      <td>8</td>\n",
       "      <td>1131.464935</td>\n",
       "    </tr>\n",
       "    <tr>\n",
       "      <th>2</th>\n",
       "      <td>12887.431650</td>\n",
       "      <td>48767</td>\n",
       "      <td>108</td>\n",
       "      <td>18</td>\n",
       "      <td>38</td>\n",
       "      <td>0</td>\n",
       "      <td>2</td>\n",
       "      <td>566.472247</td>\n",
       "    </tr>\n",
       "    <tr>\n",
       "      <th>3</th>\n",
       "      <td>7645.861827</td>\n",
       "      <td>0</td>\n",
       "      <td>106</td>\n",
       "      <td>18</td>\n",
       "      <td>65</td>\n",
       "      <td>0</td>\n",
       "      <td>7</td>\n",
       "      <td>529.881344</td>\n",
       "    </tr>\n",
       "    <tr>\n",
       "      <th>4</th>\n",
       "      <td>2813.692575</td>\n",
       "      <td>43836</td>\n",
       "      <td>73</td>\n",
       "      <td>12</td>\n",
       "      <td>44</td>\n",
       "      <td>0</td>\n",
       "      <td>1</td>\n",
       "      <td>138.130879</td>\n",
       "    </tr>\n",
       "  </tbody>\n",
       "</table>\n",
       "</div>"
      ],
      "text/plain": [
       "   customer lifetime value  income  monthly premium auto  \\\n",
       "0              2763.519279   56274                    69   \n",
       "1              6979.535903       0                    94   \n",
       "2             12887.431650   48767                   108   \n",
       "3              7645.861827       0                   106   \n",
       "4              2813.692575   43836                    73   \n",
       "\n",
       "   months since last claim  months since policy inception  \\\n",
       "0                       32                              5   \n",
       "1                       13                             42   \n",
       "2                       18                             38   \n",
       "3                       18                             65   \n",
       "4                       12                             44   \n",
       "\n",
       "   number of open complaints  number of policies  total claim amount  \n",
       "0                          0                   1          384.811147  \n",
       "1                          0                   8         1131.464935  \n",
       "2                          0                   2          566.472247  \n",
       "3                          0                   7          529.881344  \n",
       "4                          0                   1          138.130879  "
      ]
     },
     "execution_count": 5,
     "metadata": {},
     "output_type": "execute_result"
    }
   ],
   "source": [
    "numerical = marcusan.select_dtypes(include=np.number)\n",
    "numerical.head()"
   ]
  },
  {
   "cell_type": "code",
   "execution_count": 6,
   "id": "d31f78ff",
   "metadata": {},
   "outputs": [
    {
     "data": {
      "text/plain": [
       "customer lifetime value          0\n",
       "income                           0\n",
       "monthly premium auto             0\n",
       "months since last claim          0\n",
       "months since policy inception    0\n",
       "number of open complaints        0\n",
       "number of policies               0\n",
       "total claim amount               0\n",
       "dtype: int64"
      ]
     },
     "execution_count": 6,
     "metadata": {},
     "output_type": "execute_result"
    }
   ],
   "source": [
    "marcusan._get_numeric_data().isna().sum()"
   ]
  },
  {
   "cell_type": "code",
   "execution_count": 7,
   "id": "563cd266",
   "metadata": {},
   "outputs": [],
   "source": [
    "mean_numer_of_open_complaints = np.mean(marcusan['months since last claim'])\n",
    "marcusan['months since last claim'] = marcusan['months since last claim'].fillna(mean_numer_of_open_complaints)"
   ]
  },
  {
   "cell_type": "code",
   "execution_count": 8,
   "id": "0e781f9c",
   "metadata": {},
   "outputs": [],
   "source": [
    "mean_months_since_last_claim = np.mean(marcusan['number of open complaints'])\n",
    "marcusan['number of open complaints'] = marcusan['number of open complaints'].fillna(mean_months_since_last_claim)"
   ]
  },
  {
   "cell_type": "code",
   "execution_count": 9,
   "id": "1d778255",
   "metadata": {},
   "outputs": [
    {
     "name": "stderr",
     "output_type": "stream",
     "text": [
      "<ipython-input-9-2d4c1aa267db>:1: DeprecationWarning: `np.object` is a deprecated alias for the builtin `object`. To silence this warning, use `object` by itself. Doing this will not modify any behavior and is safe. \n",
      "Deprecated in NumPy 1.20; for more details and guidance: https://numpy.org/devdocs/release/1.20.0-notes.html#deprecations\n",
      "  categorical = marcusan.select_dtypes(include=np.object)\n"
     ]
    },
    {
     "data": {
      "text/html": [
       "<div>\n",
       "<style scoped>\n",
       "    .dataframe tbody tr th:only-of-type {\n",
       "        vertical-align: middle;\n",
       "    }\n",
       "\n",
       "    .dataframe tbody tr th {\n",
       "        vertical-align: top;\n",
       "    }\n",
       "\n",
       "    .dataframe thead th {\n",
       "        text-align: right;\n",
       "    }\n",
       "</style>\n",
       "<table border=\"1\" class=\"dataframe\">\n",
       "  <thead>\n",
       "    <tr style=\"text-align: right;\">\n",
       "      <th></th>\n",
       "      <th>customer</th>\n",
       "      <th>state</th>\n",
       "      <th>response</th>\n",
       "      <th>coverage</th>\n",
       "      <th>education</th>\n",
       "      <th>effective to date</th>\n",
       "      <th>employmentstatus</th>\n",
       "      <th>gender</th>\n",
       "      <th>location code</th>\n",
       "      <th>marital status</th>\n",
       "      <th>policy type</th>\n",
       "      <th>policy</th>\n",
       "      <th>renew offer type</th>\n",
       "      <th>sales channel</th>\n",
       "      <th>vehicle class</th>\n",
       "      <th>vehicle size</th>\n",
       "    </tr>\n",
       "  </thead>\n",
       "  <tbody>\n",
       "    <tr>\n",
       "      <th>0</th>\n",
       "      <td>BU79786</td>\n",
       "      <td>Washington</td>\n",
       "      <td>No</td>\n",
       "      <td>Basic</td>\n",
       "      <td>Bachelor</td>\n",
       "      <td>2/24/11</td>\n",
       "      <td>Employed</td>\n",
       "      <td>F</td>\n",
       "      <td>Suburban</td>\n",
       "      <td>Married</td>\n",
       "      <td>Corporate Auto</td>\n",
       "      <td>Corporate L3</td>\n",
       "      <td>Offer1</td>\n",
       "      <td>Agent</td>\n",
       "      <td>Two-Door Car</td>\n",
       "      <td>Medsize</td>\n",
       "    </tr>\n",
       "    <tr>\n",
       "      <th>1</th>\n",
       "      <td>QZ44356</td>\n",
       "      <td>Arizona</td>\n",
       "      <td>No</td>\n",
       "      <td>Extended</td>\n",
       "      <td>Bachelor</td>\n",
       "      <td>1/31/11</td>\n",
       "      <td>Unemployed</td>\n",
       "      <td>F</td>\n",
       "      <td>Suburban</td>\n",
       "      <td>Single</td>\n",
       "      <td>Personal Auto</td>\n",
       "      <td>Personal L3</td>\n",
       "      <td>Offer3</td>\n",
       "      <td>Agent</td>\n",
       "      <td>Four-Door Car</td>\n",
       "      <td>Medsize</td>\n",
       "    </tr>\n",
       "    <tr>\n",
       "      <th>2</th>\n",
       "      <td>AI49188</td>\n",
       "      <td>Nevada</td>\n",
       "      <td>No</td>\n",
       "      <td>Premium</td>\n",
       "      <td>Bachelor</td>\n",
       "      <td>2/19/11</td>\n",
       "      <td>Employed</td>\n",
       "      <td>F</td>\n",
       "      <td>Suburban</td>\n",
       "      <td>Married</td>\n",
       "      <td>Personal Auto</td>\n",
       "      <td>Personal L3</td>\n",
       "      <td>Offer1</td>\n",
       "      <td>Agent</td>\n",
       "      <td>Two-Door Car</td>\n",
       "      <td>Medsize</td>\n",
       "    </tr>\n",
       "    <tr>\n",
       "      <th>3</th>\n",
       "      <td>WW63253</td>\n",
       "      <td>California</td>\n",
       "      <td>No</td>\n",
       "      <td>Basic</td>\n",
       "      <td>Bachelor</td>\n",
       "      <td>1/20/11</td>\n",
       "      <td>Unemployed</td>\n",
       "      <td>M</td>\n",
       "      <td>Suburban</td>\n",
       "      <td>Married</td>\n",
       "      <td>Corporate Auto</td>\n",
       "      <td>Corporate L2</td>\n",
       "      <td>Offer1</td>\n",
       "      <td>Call Center</td>\n",
       "      <td>SUV</td>\n",
       "      <td>Medsize</td>\n",
       "    </tr>\n",
       "    <tr>\n",
       "      <th>4</th>\n",
       "      <td>HB64268</td>\n",
       "      <td>Washington</td>\n",
       "      <td>No</td>\n",
       "      <td>Basic</td>\n",
       "      <td>Bachelor</td>\n",
       "      <td>2/3/11</td>\n",
       "      <td>Employed</td>\n",
       "      <td>M</td>\n",
       "      <td>Rural</td>\n",
       "      <td>Single</td>\n",
       "      <td>Personal Auto</td>\n",
       "      <td>Personal L1</td>\n",
       "      <td>Offer1</td>\n",
       "      <td>Agent</td>\n",
       "      <td>Four-Door Car</td>\n",
       "      <td>Medsize</td>\n",
       "    </tr>\n",
       "  </tbody>\n",
       "</table>\n",
       "</div>"
      ],
      "text/plain": [
       "  customer       state response  coverage education effective to date  \\\n",
       "0  BU79786  Washington       No     Basic  Bachelor           2/24/11   \n",
       "1  QZ44356     Arizona       No  Extended  Bachelor           1/31/11   \n",
       "2  AI49188      Nevada       No   Premium  Bachelor           2/19/11   \n",
       "3  WW63253  California       No     Basic  Bachelor           1/20/11   \n",
       "4  HB64268  Washington       No     Basic  Bachelor            2/3/11   \n",
       "\n",
       "  employmentstatus gender location code marital status     policy type  \\\n",
       "0         Employed      F      Suburban        Married  Corporate Auto   \n",
       "1       Unemployed      F      Suburban         Single   Personal Auto   \n",
       "2         Employed      F      Suburban        Married   Personal Auto   \n",
       "3       Unemployed      M      Suburban        Married  Corporate Auto   \n",
       "4         Employed      M         Rural         Single   Personal Auto   \n",
       "\n",
       "         policy renew offer type sales channel  vehicle class vehicle size  \n",
       "0  Corporate L3           Offer1         Agent   Two-Door Car      Medsize  \n",
       "1   Personal L3           Offer3         Agent  Four-Door Car      Medsize  \n",
       "2   Personal L3           Offer1         Agent   Two-Door Car      Medsize  \n",
       "3  Corporate L2           Offer1   Call Center            SUV      Medsize  \n",
       "4   Personal L1           Offer1         Agent  Four-Door Car      Medsize  "
      ]
     },
     "execution_count": 9,
     "metadata": {},
     "output_type": "execute_result"
    }
   ],
   "source": [
    "categorical = marcusan.select_dtypes(include=np.object)\n",
    "categorical.head()"
   ]
  },
  {
   "cell_type": "code",
   "execution_count": 10,
   "id": "9bab198f",
   "metadata": {},
   "outputs": [],
   "source": [
    "from sklearn import linear_model\n",
    "from sklearn.metrics import mean_squared_error, r2_score\n",
    "\n",
    "lm = linear_model.LinearRegression()"
   ]
  },
  {
   "cell_type": "code",
   "execution_count": 11,
   "id": "14c1c289",
   "metadata": {},
   "outputs": [
    {
     "name": "stdout",
     "output_type": "stream",
     "text": [
      "72.39096819184192\n",
      "[-6.74723453e-04 -3.29341526e-03  5.34254540e+00 -1.45721018e-01\n",
      " -1.02321926e-01 -1.37160695e+00  2.48565252e-01]\n"
     ]
    }
   ],
   "source": [
    "y = marcusan['total claim amount']\n",
    "X = marcusan[['customer lifetime value','income','monthly premium auto','months since last claim','months since policy inception','number of open complaints','number of policies']]\n",
    "\n",
    "model = lm.fit(X,y)\n",
    "print(lm.intercept_)\n",
    "print(lm.coef_)"
   ]
  },
  {
   "cell_type": "code",
   "execution_count": 12,
   "id": "d959bcd5",
   "metadata": {},
   "outputs": [
    {
     "name": "stdout",
     "output_type": "stream",
     "text": [
      "0.5186628226558787\n"
     ]
    }
   ],
   "source": [
    "print(lm.score(X,y))"
   ]
  },
  {
   "cell_type": "code",
   "execution_count": 13,
   "id": "f18777f8",
   "metadata": {},
   "outputs": [
    {
     "data": {
      "image/png": "[encoded data removed]",
      "text/plain": [
       "<Figure size 432x288 with 2 Axes>"
      ]
     },
     "metadata": {
      "needs_background": "light"
     },
     "output_type": "display_data"
    },
    {
     "data": {
      "text/plain": [
       "<Figure size 1296x936 with 0 Axes>"
      ]
     },
     "metadata": {},
     "output_type": "display_data"
    }
   ],
   "source": [
    "correlations_matrix = marcusan.corr()\n",
    "sns.heatmap(correlations_matrix, annot=True)\n",
    "plt.figure(figsize=(18, 13))\n",
    "plt.show()"
   ]
  },
  {
   "cell_type": "code",
   "execution_count": 14,
   "id": "012077e7",
   "metadata": {},
   "outputs": [
    {
     "data": {
      "image/png": "[encoded data removed]",
      "text/plain": [
       "<Figure size 360x360 with 1 Axes>"
      ]
     },
     "metadata": {
      "needs_background": "light"
     },
     "output_type": "display_data"
    }
   ],
   "source": [
    "sns.displot(marcusan['total claim amount'], bins=20)\n",
    "plt.show()"
   ]
  },
  {
   "cell_type": "code",
   "execution_count": 15,
   "id": "07a9c317",
   "metadata": {},
   "outputs": [
    {
     "data": {
      "image/png": "[encoded data removed]",
      "text/plain": [
       "<Figure size 432x288 with 1 Axes>"
      ]
     },
     "metadata": {
      "needs_background": "light"
     },
     "output_type": "display_data"
    }
   ],
   "source": [
    "x = marcusan['total claim amount']\n",
    "plt.hist(x, bins=20)\n",
    "plt.show()"
   ]
  },
  {
   "cell_type": "code",
   "execution_count": 16,
   "id": "b6d4b526",
   "metadata": {},
   "outputs": [
    {
     "data": {
      "image/png": "[encoded data removed]",
      "text/plain": [
       "<Figure size 432x288 with 1 Axes>"
      ]
     },
     "metadata": {
      "needs_background": "light"
     },
     "output_type": "display_data"
    }
   ],
   "source": [
    "regression_line = lm.intercept_ + lm.coef_[0]*marcusan['income']\n",
    "plt.plot(marcusan['income'], regression_line, c = 'orange')\n",
    "sns.scatterplot(x='income',y='total claim amount',data=marcusan)\n",
    "plt.show()"
   ]
  },
  {
   "cell_type": "code",
   "execution_count": 17,
   "id": "3c8a93af",
   "metadata": {},
   "outputs": [
    {
     "data": {
      "image/png": "[encoded data removed]",
      "text/plain": [
       "<Figure size 432x288 with 1 Axes>"
      ]
     },
     "metadata": {
      "needs_background": "light"
     },
     "output_type": "display_data"
    }
   ],
   "source": [
    "regression_line = lm.intercept_ + lm.coef_[0]*marcusan['monthly premium auto']\n",
    "plt.plot(marcusan['monthly premium auto'], regression_line, c = 'red')\n",
    "sns.scatterplot(x='monthly premium auto',y='total claim amount',data=marcusan)\n",
    "plt.show()"
   ]
  },
  {
   "cell_type": "code",
   "execution_count": 18,
   "id": "86b5b7ee",
   "metadata": {},
   "outputs": [
    {
     "data": {
      "image/png": "[encoded data removed]",
      "text/plain": [
       "<Figure size 432x288 with 1 Axes>"
      ]
     },
     "metadata": {
      "needs_background": "light"
     },
     "output_type": "display_data"
    }
   ],
   "source": [
    "sns.boxplot(x=marcusan['total claim amount'])\n",
    "plt.show()"
   ]
  },
  {
   "cell_type": "code",
   "execution_count": 19,
   "id": "be37ea16",
   "metadata": {},
   "outputs": [
    {
     "data": {
      "image/png": "[encoded data removed]",
      "text/plain": [
       "<Figure size 360x360 with 1 Axes>"
      ]
     },
     "metadata": {
      "needs_background": "light"
     },
     "output_type": "display_data"
    }
   ],
   "source": [
    "sns.displot(x=marcusan['total claim amount'])\n",
    "plt.show()"
   ]
  },
  {
   "cell_type": "code",
   "execution_count": 20,
   "id": "0f2e236f",
   "metadata": {},
   "outputs": [],
   "source": [
    "iqr = np.percentile(marcusan['total claim amount'],75) - np.percentile(marcusan['total claim amount'],25)\n",
    "upper_limit = np.percentile(marcusan['total claim amount'],75) + 1.5*iqr\n",
    "lower_limit = np.percentile(marcusan['total claim amount'],25) - 1.5*iqr"
   ]
  },
  {
   "cell_type": "code",
   "execution_count": 21,
   "id": "40563d87",
   "metadata": {},
   "outputs": [
    {
     "data": {
      "text/plain": [
       "-140.62664687499995"
      ]
     },
     "execution_count": 21,
     "metadata": {},
     "output_type": "execute_result"
    }
   ],
   "source": [
    "lower_limit"
   ]
  },
  {
   "cell_type": "code",
   "execution_count": 22,
   "id": "31379991",
   "metadata": {},
   "outputs": [
    {
     "data": {
      "image/png": "[encoded data removed]",
      "text/plain": [
       "<Figure size 360x360 with 1 Axes>"
      ]
     },
     "metadata": {
      "needs_background": "light"
     },
     "output_type": "display_data"
    }
   ],
   "source": [
    "marcusan = marcusan[(marcusan['total claim amount']>lower_limit) & (marcusan['total claim amount']<upper_limit)]\n",
    "sns.displot(marcusan['total claim amount'])\n",
    "plt.show()\n"
   ]
  },
  {
   "cell_type": "code",
   "execution_count": 23,
   "id": "40da213a",
   "metadata": {},
   "outputs": [
    {
     "data": {
      "image/png": "[encoded data removed]",
      "text/plain": [
       "<Figure size 360x360 with 1 Axes>"
      ]
     },
     "metadata": {
      "needs_background": "light"
     },
     "output_type": "display_data"
    }
   ],
   "source": [
    "def log_transfom_clean1(x):\n",
    "    x = np.log10(x)\n",
    "    if np.isfinite(x):\n",
    "        return x\n",
    "    else:\n",
    "        return 0\n",
    "\n",
    "total_claim_amount_log = list(map(log_transfom_clean1, marcusan['total claim amount']))\n",
    "sns.displot(total_claim_amount_log)\n",
    "plt.show()"
   ]
  },
  {
   "cell_type": "code",
   "execution_count": 24,
   "id": "025bc131",
   "metadata": {},
   "outputs": [
    {
     "name": "stderr",
     "output_type": "stream",
     "text": [
      "<ipython-input-24-1918d08322cf>:7: SettingWithCopyWarning: \n",
      "A value is trying to be set on a copy of a slice from a DataFrame.\n",
      "Try using .loc[row_indexer,col_indexer] = value instead\n",
      "\n",
      "See the caveats in the documentation: https://pandas.pydata.org/pandas-docs/stable/user_guide/indexing.html#returning-a-view-versus-a-copy\n",
      "  marcusan['total_claim_amount_log'] = list(map(log_transfom_clean2, marcusan['total claim amount']))\n",
      "<ipython-input-24-1918d08322cf>:8: SettingWithCopyWarning: \n",
      "A value is trying to be set on a copy of a slice from a DataFrame.\n",
      "Try using .loc[row_indexer,col_indexer] = value instead\n",
      "\n",
      "See the caveats in the documentation: https://pandas.pydata.org/pandas-docs/stable/user_guide/indexing.html#returning-a-view-versus-a-copy\n",
      "  marcusan['total_claim_amount_log'] = marcusan['total_claim_amount_log'].fillna(np.mean(marcusan['total_claim_amount_log']))\n"
     ]
    },
    {
     "data": {
      "image/png": "[encoded data removed]",
      "text/plain": [
       "<Figure size 360x360 with 1 Axes>"
      ]
     },
     "metadata": {
      "needs_background": "light"
     },
     "output_type": "display_data"
    }
   ],
   "source": [
    "def log_transfom_clean2(x):\n",
    "    x = np.log10(x)\n",
    "    if np.isfinite(x):\n",
    "        return x\n",
    "    else:\n",
    "        return np.NAN \n",
    "marcusan['total_claim_amount_log'] = list(map(log_transfom_clean2, marcusan['total claim amount']))\n",
    "marcusan['total_claim_amount_log'] = marcusan['total_claim_amount_log'].fillna(np.mean(marcusan['total_claim_amount_log']))\n",
    "sns.displot(marcusan['total_claim_amount_log'])\n",
    "plt.show()"
   ]
  },
  {
   "cell_type": "code",
   "execution_count": 25,
   "id": "1bae169a",
   "metadata": {},
   "outputs": [
    {
     "data": {
      "text/html": [
       "<div>\n",
       "<style scoped>\n",
       "    .dataframe tbody tr th:only-of-type {\n",
       "        vertical-align: middle;\n",
       "    }\n",
       "\n",
       "    .dataframe tbody tr th {\n",
       "        vertical-align: top;\n",
       "    }\n",
       "\n",
       "    .dataframe thead th {\n",
       "        text-align: right;\n",
       "    }\n",
       "</style>\n",
       "<table border=\"1\" class=\"dataframe\">\n",
       "  <thead>\n",
       "    <tr style=\"text-align: right;\">\n",
       "      <th></th>\n",
       "      <th>customer</th>\n",
       "      <th>state</th>\n",
       "      <th>customer lifetime value</th>\n",
       "      <th>response</th>\n",
       "      <th>coverage</th>\n",
       "      <th>education</th>\n",
       "      <th>effective to date</th>\n",
       "      <th>employmentstatus</th>\n",
       "      <th>gender</th>\n",
       "      <th>income</th>\n",
       "      <th>...</th>\n",
       "      <th>number of open complaints</th>\n",
       "      <th>number of policies</th>\n",
       "      <th>policy type</th>\n",
       "      <th>policy</th>\n",
       "      <th>renew offer type</th>\n",
       "      <th>sales channel</th>\n",
       "      <th>total claim amount</th>\n",
       "      <th>vehicle class</th>\n",
       "      <th>vehicle size</th>\n",
       "      <th>total_claim_amount_log</th>\n",
       "    </tr>\n",
       "  </thead>\n",
       "  <tbody>\n",
       "    <tr>\n",
       "      <th>0</th>\n",
       "      <td>BU79786</td>\n",
       "      <td>Washington</td>\n",
       "      <td>2763.519279</td>\n",
       "      <td>No</td>\n",
       "      <td>Basic</td>\n",
       "      <td>Bachelor</td>\n",
       "      <td>2/24/11</td>\n",
       "      <td>Employed</td>\n",
       "      <td>F</td>\n",
       "      <td>56274</td>\n",
       "      <td>...</td>\n",
       "      <td>0</td>\n",
       "      <td>1</td>\n",
       "      <td>Corporate Auto</td>\n",
       "      <td>Corporate L3</td>\n",
       "      <td>Offer1</td>\n",
       "      <td>Agent</td>\n",
       "      <td>384.811147</td>\n",
       "      <td>Two-Door Car</td>\n",
       "      <td>Medsize</td>\n",
       "      <td>2.585248</td>\n",
       "    </tr>\n",
       "    <tr>\n",
       "      <th>2</th>\n",
       "      <td>AI49188</td>\n",
       "      <td>Nevada</td>\n",
       "      <td>12887.431650</td>\n",
       "      <td>No</td>\n",
       "      <td>Premium</td>\n",
       "      <td>Bachelor</td>\n",
       "      <td>2/19/11</td>\n",
       "      <td>Employed</td>\n",
       "      <td>F</td>\n",
       "      <td>48767</td>\n",
       "      <td>...</td>\n",
       "      <td>0</td>\n",
       "      <td>2</td>\n",
       "      <td>Personal Auto</td>\n",
       "      <td>Personal L3</td>\n",
       "      <td>Offer1</td>\n",
       "      <td>Agent</td>\n",
       "      <td>566.472247</td>\n",
       "      <td>Two-Door Car</td>\n",
       "      <td>Medsize</td>\n",
       "      <td>2.753179</td>\n",
       "    </tr>\n",
       "    <tr>\n",
       "      <th>3</th>\n",
       "      <td>WW63253</td>\n",
       "      <td>California</td>\n",
       "      <td>7645.861827</td>\n",
       "      <td>No</td>\n",
       "      <td>Basic</td>\n",
       "      <td>Bachelor</td>\n",
       "      <td>1/20/11</td>\n",
       "      <td>Unemployed</td>\n",
       "      <td>M</td>\n",
       "      <td>0</td>\n",
       "      <td>...</td>\n",
       "      <td>0</td>\n",
       "      <td>7</td>\n",
       "      <td>Corporate Auto</td>\n",
       "      <td>Corporate L2</td>\n",
       "      <td>Offer1</td>\n",
       "      <td>Call Center</td>\n",
       "      <td>529.881344</td>\n",
       "      <td>SUV</td>\n",
       "      <td>Medsize</td>\n",
       "      <td>2.724179</td>\n",
       "    </tr>\n",
       "    <tr>\n",
       "      <th>4</th>\n",
       "      <td>HB64268</td>\n",
       "      <td>Washington</td>\n",
       "      <td>2813.692575</td>\n",
       "      <td>No</td>\n",
       "      <td>Basic</td>\n",
       "      <td>Bachelor</td>\n",
       "      <td>2/3/11</td>\n",
       "      <td>Employed</td>\n",
       "      <td>M</td>\n",
       "      <td>43836</td>\n",
       "      <td>...</td>\n",
       "      <td>0</td>\n",
       "      <td>1</td>\n",
       "      <td>Personal Auto</td>\n",
       "      <td>Personal L1</td>\n",
       "      <td>Offer1</td>\n",
       "      <td>Agent</td>\n",
       "      <td>138.130879</td>\n",
       "      <td>Four-Door Car</td>\n",
       "      <td>Medsize</td>\n",
       "      <td>2.140291</td>\n",
       "    </tr>\n",
       "    <tr>\n",
       "      <th>5</th>\n",
       "      <td>OC83172</td>\n",
       "      <td>Oregon</td>\n",
       "      <td>8256.297800</td>\n",
       "      <td>Yes</td>\n",
       "      <td>Basic</td>\n",
       "      <td>Bachelor</td>\n",
       "      <td>1/25/11</td>\n",
       "      <td>Employed</td>\n",
       "      <td>F</td>\n",
       "      <td>62902</td>\n",
       "      <td>...</td>\n",
       "      <td>0</td>\n",
       "      <td>2</td>\n",
       "      <td>Personal Auto</td>\n",
       "      <td>Personal L3</td>\n",
       "      <td>Offer2</td>\n",
       "      <td>Web</td>\n",
       "      <td>159.383042</td>\n",
       "      <td>Two-Door Car</td>\n",
       "      <td>Medsize</td>\n",
       "      <td>2.202442</td>\n",
       "    </tr>\n",
       "  </tbody>\n",
       "</table>\n",
       "<p>5 rows × 25 columns</p>\n",
       "</div>"
      ],
      "text/plain": [
       "  customer       state  customer lifetime value response coverage education  \\\n",
       "0  BU79786  Washington              2763.519279       No    Basic  Bachelor   \n",
       "2  AI49188      Nevada             12887.431650       No  Premium  Bachelor   \n",
       "3  WW63253  California              7645.861827       No    Basic  Bachelor   \n",
       "4  HB64268  Washington              2813.692575       No    Basic  Bachelor   \n",
       "5  OC83172      Oregon              8256.297800      Yes    Basic  Bachelor   \n",
       "\n",
       "  effective to date employmentstatus gender  income  ...  \\\n",
       "0           2/24/11         Employed      F   56274  ...   \n",
       "2           2/19/11         Employed      F   48767  ...   \n",
       "3           1/20/11       Unemployed      M       0  ...   \n",
       "4            2/3/11         Employed      M   43836  ...   \n",
       "5           1/25/11         Employed      F   62902  ...   \n",
       "\n",
       "  number of open complaints number of policies     policy type        policy  \\\n",
       "0                         0                  1  Corporate Auto  Corporate L3   \n",
       "2                         0                  2   Personal Auto   Personal L3   \n",
       "3                         0                  7  Corporate Auto  Corporate L2   \n",
       "4                         0                  1   Personal Auto   Personal L1   \n",
       "5                         0                  2   Personal Auto   Personal L3   \n",
       "\n",
       "   renew offer type  sales channel  total claim amount  vehicle class  \\\n",
       "0            Offer1          Agent          384.811147   Two-Door Car   \n",
       "2            Offer1          Agent          566.472247   Two-Door Car   \n",
       "3            Offer1    Call Center          529.881344            SUV   \n",
       "4            Offer1          Agent          138.130879  Four-Door Car   \n",
       "5            Offer2            Web          159.383042   Two-Door Car   \n",
       "\n",
       "  vehicle size total_claim_amount_log  \n",
       "0      Medsize               2.585248  \n",
       "2      Medsize               2.753179  \n",
       "3      Medsize               2.724179  \n",
       "4      Medsize               2.140291  \n",
       "5      Medsize               2.202442  \n",
       "\n",
       "[5 rows x 25 columns]"
      ]
     },
     "execution_count": 25,
     "metadata": {},
     "output_type": "execute_result"
    }
   ],
   "source": [
    "marcusan.head()"
   ]
  },
  {
   "cell_type": "code",
   "execution_count": 26,
   "id": "4a8f5ff5",
   "metadata": {},
   "outputs": [
    {
     "data": {
      "image/png": "[encoded data removed]",
      "text/plain": [
       "<Figure size 360x360 with 1 Axes>"
      ]
     },
     "metadata": {
      "needs_background": "light"
     },
     "output_type": "display_data"
    }
   ],
   "source": [
    "iqr = np.percentile(marcusan['total_claim_amount_log'],75) - np.percentile(marcusan['total_claim_amount_log'],25)\n",
    "upper_limit = np.percentile(marcusan['total_claim_amount_log'],75) + 3*iqr\n",
    "lower_limit = np.percentile(marcusan['total_claim_amount_log'],25) - 3*iqr\n",
    "marcusan = marcusan[(marcusan['total_claim_amount_log']>lower_limit) & (marcusan['total_claim_amount_log']<upper_limit)]\n",
    "sns.displot(marcusan['total_claim_amount_log'])\n",
    "plt.show()"
   ]
  },
  {
   "cell_type": "code",
   "execution_count": 27,
   "id": "3198b7f8",
   "metadata": {},
   "outputs": [
    {
     "name": "stderr",
     "output_type": "stream",
     "text": [
      "<ipython-input-27-064861904755>:7: DeprecationWarning: `np.object` is a deprecated alias for the builtin `object`. To silence this warning, use `object` by itself. Doing this will not modify any behavior and is safe. \n",
      "Deprecated in NumPy 1.20; for more details and guidance: https://numpy.org/devdocs/release/1.20.0-notes.html#deprecations\n",
      "  X_cat = X.select_dtypes(include = np.object)\n"
     ]
    }
   ],
   "source": [
    "from sklearn.preprocessing import MinMaxScaler\n",
    "from sklearn.preprocessing import StandardScaler\n",
    "\n",
    "Y = marcusan['total claim amount']\n",
    "X = marcusan.drop(['total claim amount'], axis=1)\n",
    "X_num = X.select_dtypes(include = np.number)\n",
    "X_cat = X.select_dtypes(include = np.object)"
   ]
  },
  {
   "cell_type": "code",
   "execution_count": 28,
   "id": "2b75dd94",
   "metadata": {},
   "outputs": [
    {
     "data": {
      "text/html": [
       "<div>\n",
       "<style scoped>\n",
       "    .dataframe tbody tr th:only-of-type {\n",
       "        vertical-align: middle;\n",
       "    }\n",
       "\n",
       "    .dataframe tbody tr th {\n",
       "        vertical-align: top;\n",
       "    }\n",
       "\n",
       "    .dataframe thead th {\n",
       "        text-align: right;\n",
       "    }\n",
       "</style>\n",
       "<table border=\"1\" class=\"dataframe\">\n",
       "  <thead>\n",
       "    <tr style=\"text-align: right;\">\n",
       "      <th></th>\n",
       "      <th>customer lifetime value</th>\n",
       "      <th>income</th>\n",
       "      <th>monthly premium auto</th>\n",
       "      <th>months since last claim</th>\n",
       "      <th>months since policy inception</th>\n",
       "      <th>number of open complaints</th>\n",
       "      <th>number of policies</th>\n",
       "      <th>total_claim_amount_log</th>\n",
       "    </tr>\n",
       "  </thead>\n",
       "  <tbody>\n",
       "    <tr>\n",
       "      <th>0</th>\n",
       "      <td>2763.519279</td>\n",
       "      <td>56274</td>\n",
       "      <td>69</td>\n",
       "      <td>32</td>\n",
       "      <td>5</td>\n",
       "      <td>0</td>\n",
       "      <td>1</td>\n",
       "      <td>2.585248</td>\n",
       "    </tr>\n",
       "    <tr>\n",
       "      <th>2</th>\n",
       "      <td>12887.431650</td>\n",
       "      <td>48767</td>\n",
       "      <td>108</td>\n",
       "      <td>18</td>\n",
       "      <td>38</td>\n",
       "      <td>0</td>\n",
       "      <td>2</td>\n",
       "      <td>2.753179</td>\n",
       "    </tr>\n",
       "    <tr>\n",
       "      <th>3</th>\n",
       "      <td>7645.861827</td>\n",
       "      <td>0</td>\n",
       "      <td>106</td>\n",
       "      <td>18</td>\n",
       "      <td>65</td>\n",
       "      <td>0</td>\n",
       "      <td>7</td>\n",
       "      <td>2.724179</td>\n",
       "    </tr>\n",
       "    <tr>\n",
       "      <th>4</th>\n",
       "      <td>2813.692575</td>\n",
       "      <td>43836</td>\n",
       "      <td>73</td>\n",
       "      <td>12</td>\n",
       "      <td>44</td>\n",
       "      <td>0</td>\n",
       "      <td>1</td>\n",
       "      <td>2.140291</td>\n",
       "    </tr>\n",
       "    <tr>\n",
       "      <th>5</th>\n",
       "      <td>8256.297800</td>\n",
       "      <td>62902</td>\n",
       "      <td>69</td>\n",
       "      <td>14</td>\n",
       "      <td>94</td>\n",
       "      <td>0</td>\n",
       "      <td>2</td>\n",
       "      <td>2.202442</td>\n",
       "    </tr>\n",
       "    <tr>\n",
       "      <th>...</th>\n",
       "      <td>...</td>\n",
       "      <td>...</td>\n",
       "      <td>...</td>\n",
       "      <td>...</td>\n",
       "      <td>...</td>\n",
       "      <td>...</td>\n",
       "      <td>...</td>\n",
       "      <td>...</td>\n",
       "    </tr>\n",
       "    <tr>\n",
       "      <th>9129</th>\n",
       "      <td>23405.987980</td>\n",
       "      <td>71941</td>\n",
       "      <td>73</td>\n",
       "      <td>18</td>\n",
       "      <td>89</td>\n",
       "      <td>0</td>\n",
       "      <td>2</td>\n",
       "      <td>2.297180</td>\n",
       "    </tr>\n",
       "    <tr>\n",
       "      <th>9130</th>\n",
       "      <td>3096.511217</td>\n",
       "      <td>21604</td>\n",
       "      <td>79</td>\n",
       "      <td>14</td>\n",
       "      <td>28</td>\n",
       "      <td>0</td>\n",
       "      <td>1</td>\n",
       "      <td>2.578868</td>\n",
       "    </tr>\n",
       "    <tr>\n",
       "      <th>9131</th>\n",
       "      <td>8163.890428</td>\n",
       "      <td>0</td>\n",
       "      <td>85</td>\n",
       "      <td>9</td>\n",
       "      <td>37</td>\n",
       "      <td>3</td>\n",
       "      <td>2</td>\n",
       "      <td>2.898058</td>\n",
       "    </tr>\n",
       "    <tr>\n",
       "      <th>9132</th>\n",
       "      <td>7524.442436</td>\n",
       "      <td>21941</td>\n",
       "      <td>96</td>\n",
       "      <td>34</td>\n",
       "      <td>3</td>\n",
       "      <td>0</td>\n",
       "      <td>3</td>\n",
       "      <td>2.839604</td>\n",
       "    </tr>\n",
       "    <tr>\n",
       "      <th>9133</th>\n",
       "      <td>2611.836866</td>\n",
       "      <td>0</td>\n",
       "      <td>77</td>\n",
       "      <td>3</td>\n",
       "      <td>90</td>\n",
       "      <td>0</td>\n",
       "      <td>1</td>\n",
       "      <td>2.567732</td>\n",
       "    </tr>\n",
       "  </tbody>\n",
       "</table>\n",
       "<p>8444 rows × 8 columns</p>\n",
       "</div>"
      ],
      "text/plain": [
       "      customer lifetime value  income  monthly premium auto  \\\n",
       "0                 2763.519279   56274                    69   \n",
       "2                12887.431650   48767                   108   \n",
       "3                 7645.861827       0                   106   \n",
       "4                 2813.692575   43836                    73   \n",
       "5                 8256.297800   62902                    69   \n",
       "...                       ...     ...                   ...   \n",
       "9129             23405.987980   71941                    73   \n",
       "9130              3096.511217   21604                    79   \n",
       "9131              8163.890428       0                    85   \n",
       "9132              7524.442436   21941                    96   \n",
       "9133              2611.836866       0                    77   \n",
       "\n",
       "      months since last claim  months since policy inception  \\\n",
       "0                          32                              5   \n",
       "2                          18                             38   \n",
       "3                          18                             65   \n",
       "4                          12                             44   \n",
       "5                          14                             94   \n",
       "...                       ...                            ...   \n",
       "9129                       18                             89   \n",
       "9130                       14                             28   \n",
       "9131                        9                             37   \n",
       "9132                       34                              3   \n",
       "9133                        3                             90   \n",
       "\n",
       "      number of open complaints  number of policies  total_claim_amount_log  \n",
       "0                             0                   1                2.585248  \n",
       "2                             0                   2                2.753179  \n",
       "3                             0                   7                2.724179  \n",
       "4                             0                   1                2.140291  \n",
       "5                             0                   2                2.202442  \n",
       "...                         ...                 ...                     ...  \n",
       "9129                          0                   2                2.297180  \n",
       "9130                          0                   1                2.578868  \n",
       "9131                          3                   2                2.898058  \n",
       "9132                          0                   3                2.839604  \n",
       "9133                          0                   1                2.567732  \n",
       "\n",
       "[8444 rows x 8 columns]"
      ]
     },
     "execution_count": 28,
     "metadata": {},
     "output_type": "execute_result"
    }
   ],
   "source": [
    "X_num"
   ]
  },
  {
   "cell_type": "code",
   "execution_count": 29,
   "id": "e010499a",
   "metadata": {},
   "outputs": [
    {
     "name": "stdout",
     "output_type": "stream",
     "text": [
      "(8444, 8)\n"
     ]
    },
    {
     "data": {
      "text/html": [
       "<div>\n",
       "<style scoped>\n",
       "    .dataframe tbody tr th:only-of-type {\n",
       "        vertical-align: middle;\n",
       "    }\n",
       "\n",
       "    .dataframe tbody tr th {\n",
       "        vertical-align: top;\n",
       "    }\n",
       "\n",
       "    .dataframe thead th {\n",
       "        text-align: right;\n",
       "    }\n",
       "</style>\n",
       "<table border=\"1\" class=\"dataframe\">\n",
       "  <thead>\n",
       "    <tr style=\"text-align: right;\">\n",
       "      <th></th>\n",
       "      <th>customer lifetime value</th>\n",
       "      <th>income</th>\n",
       "      <th>monthly premium auto</th>\n",
       "      <th>months since last claim</th>\n",
       "      <th>months since policy inception</th>\n",
       "      <th>number of open complaints</th>\n",
       "      <th>number of policies</th>\n",
       "      <th>total_claim_amount_log</th>\n",
       "    </tr>\n",
       "  </thead>\n",
       "  <tbody>\n",
       "    <tr>\n",
       "      <th>0</th>\n",
       "      <td>0.013112</td>\n",
       "      <td>0.562847</td>\n",
       "      <td>0.034043</td>\n",
       "      <td>0.914286</td>\n",
       "      <td>0.050505</td>\n",
       "      <td>0.0</td>\n",
       "      <td>0.000</td>\n",
       "      <td>0.735127</td>\n",
       "    </tr>\n",
       "    <tr>\n",
       "      <th>1</th>\n",
       "      <td>0.166483</td>\n",
       "      <td>0.487763</td>\n",
       "      <td>0.200000</td>\n",
       "      <td>0.514286</td>\n",
       "      <td>0.383838</td>\n",
       "      <td>0.0</td>\n",
       "      <td>0.125</td>\n",
       "      <td>0.847147</td>\n",
       "    </tr>\n",
       "    <tr>\n",
       "      <th>2</th>\n",
       "      <td>0.087076</td>\n",
       "      <td>0.000000</td>\n",
       "      <td>0.191489</td>\n",
       "      <td>0.514286</td>\n",
       "      <td>0.656566</td>\n",
       "      <td>0.0</td>\n",
       "      <td>0.750</td>\n",
       "      <td>0.827802</td>\n",
       "    </tr>\n",
       "    <tr>\n",
       "      <th>3</th>\n",
       "      <td>0.013872</td>\n",
       "      <td>0.438443</td>\n",
       "      <td>0.051064</td>\n",
       "      <td>0.342857</td>\n",
       "      <td>0.444444</td>\n",
       "      <td>0.0</td>\n",
       "      <td>0.000</td>\n",
       "      <td>0.438314</td>\n",
       "    </tr>\n",
       "    <tr>\n",
       "      <th>4</th>\n",
       "      <td>0.096324</td>\n",
       "      <td>0.629140</td>\n",
       "      <td>0.034043</td>\n",
       "      <td>0.400000</td>\n",
       "      <td>0.949495</td>\n",
       "      <td>0.0</td>\n",
       "      <td>0.125</td>\n",
       "      <td>0.479772</td>\n",
       "    </tr>\n",
       "    <tr>\n",
       "      <th>...</th>\n",
       "      <td>...</td>\n",
       "      <td>...</td>\n",
       "      <td>...</td>\n",
       "      <td>...</td>\n",
       "      <td>...</td>\n",
       "      <td>...</td>\n",
       "      <td>...</td>\n",
       "      <td>...</td>\n",
       "    </tr>\n",
       "    <tr>\n",
       "      <th>8439</th>\n",
       "      <td>0.325833</td>\n",
       "      <td>0.719547</td>\n",
       "      <td>0.051064</td>\n",
       "      <td>0.514286</td>\n",
       "      <td>0.898990</td>\n",
       "      <td>0.0</td>\n",
       "      <td>0.125</td>\n",
       "      <td>0.542968</td>\n",
       "    </tr>\n",
       "    <tr>\n",
       "      <th>8440</th>\n",
       "      <td>0.018157</td>\n",
       "      <td>0.216081</td>\n",
       "      <td>0.076596</td>\n",
       "      <td>0.400000</td>\n",
       "      <td>0.282828</td>\n",
       "      <td>0.0</td>\n",
       "      <td>0.000</td>\n",
       "      <td>0.730871</td>\n",
       "    </tr>\n",
       "    <tr>\n",
       "      <th>8441</th>\n",
       "      <td>0.094924</td>\n",
       "      <td>0.000000</td>\n",
       "      <td>0.102128</td>\n",
       "      <td>0.257143</td>\n",
       "      <td>0.373737</td>\n",
       "      <td>0.6</td>\n",
       "      <td>0.125</td>\n",
       "      <td>0.943790</td>\n",
       "    </tr>\n",
       "    <tr>\n",
       "      <th>8442</th>\n",
       "      <td>0.085237</td>\n",
       "      <td>0.219452</td>\n",
       "      <td>0.148936</td>\n",
       "      <td>0.971429</td>\n",
       "      <td>0.030303</td>\n",
       "      <td>0.0</td>\n",
       "      <td>0.250</td>\n",
       "      <td>0.904797</td>\n",
       "    </tr>\n",
       "    <tr>\n",
       "      <th>8443</th>\n",
       "      <td>0.010814</td>\n",
       "      <td>0.000000</td>\n",
       "      <td>0.068085</td>\n",
       "      <td>0.085714</td>\n",
       "      <td>0.909091</td>\n",
       "      <td>0.0</td>\n",
       "      <td>0.000</td>\n",
       "      <td>0.723443</td>\n",
       "    </tr>\n",
       "  </tbody>\n",
       "</table>\n",
       "<p>8444 rows × 8 columns</p>\n",
       "</div>"
      ],
      "text/plain": [
       "      customer lifetime value    income  monthly premium auto  \\\n",
       "0                    0.013112  0.562847              0.034043   \n",
       "1                    0.166483  0.487763              0.200000   \n",
       "2                    0.087076  0.000000              0.191489   \n",
       "3                    0.013872  0.438443              0.051064   \n",
       "4                    0.096324  0.629140              0.034043   \n",
       "...                       ...       ...                   ...   \n",
       "8439                 0.325833  0.719547              0.051064   \n",
       "8440                 0.018157  0.216081              0.076596   \n",
       "8441                 0.094924  0.000000              0.102128   \n",
       "8442                 0.085237  0.219452              0.148936   \n",
       "8443                 0.010814  0.000000              0.068085   \n",
       "\n",
       "      months since last claim  months since policy inception  \\\n",
       "0                    0.914286                       0.050505   \n",
       "1                    0.514286                       0.383838   \n",
       "2                    0.514286                       0.656566   \n",
       "3                    0.342857                       0.444444   \n",
       "4                    0.400000                       0.949495   \n",
       "...                       ...                            ...   \n",
       "8439                 0.514286                       0.898990   \n",
       "8440                 0.400000                       0.282828   \n",
       "8441                 0.257143                       0.373737   \n",
       "8442                 0.971429                       0.030303   \n",
       "8443                 0.085714                       0.909091   \n",
       "\n",
       "      number of open complaints  number of policies  total_claim_amount_log  \n",
       "0                           0.0               0.000                0.735127  \n",
       "1                           0.0               0.125                0.847147  \n",
       "2                           0.0               0.750                0.827802  \n",
       "3                           0.0               0.000                0.438314  \n",
       "4                           0.0               0.125                0.479772  \n",
       "...                         ...                 ...                     ...  \n",
       "8439                        0.0               0.125                0.542968  \n",
       "8440                        0.0               0.000                0.730871  \n",
       "8441                        0.6               0.125                0.943790  \n",
       "8442                        0.0               0.250                0.904797  \n",
       "8443                        0.0               0.000                0.723443  \n",
       "\n",
       "[8444 rows x 8 columns]"
      ]
     },
     "execution_count": 29,
     "metadata": {},
     "output_type": "execute_result"
    }
   ],
   "source": [
    "transformer = MinMaxScaler().fit(X_num)\n",
    "x_normalized = transformer.transform(X_num)\n",
    "print(x_normalized.shape)\n",
    "pd.DataFrame(x_normalized, columns=X_num.columns)"
   ]
  },
  {
   "cell_type": "code",
   "execution_count": 30,
   "id": "16a43c7e",
   "metadata": {},
   "outputs": [
    {
     "data": {
      "text/html": [
       "<div>\n",
       "<style scoped>\n",
       "    .dataframe tbody tr th:only-of-type {\n",
       "        vertical-align: middle;\n",
       "    }\n",
       "\n",
       "    .dataframe tbody tr th {\n",
       "        vertical-align: top;\n",
       "    }\n",
       "\n",
       "    .dataframe thead th {\n",
       "        text-align: right;\n",
       "    }\n",
       "</style>\n",
       "<table border=\"1\" class=\"dataframe\">\n",
       "  <thead>\n",
       "    <tr style=\"text-align: right;\">\n",
       "      <th></th>\n",
       "      <th>customer</th>\n",
       "      <th>state</th>\n",
       "      <th>response</th>\n",
       "      <th>coverage</th>\n",
       "      <th>education</th>\n",
       "      <th>effective to date</th>\n",
       "      <th>employmentstatus</th>\n",
       "      <th>gender</th>\n",
       "      <th>location code</th>\n",
       "      <th>marital status</th>\n",
       "      <th>policy type</th>\n",
       "      <th>policy</th>\n",
       "      <th>renew offer type</th>\n",
       "      <th>sales channel</th>\n",
       "      <th>vehicle class</th>\n",
       "      <th>vehicle size</th>\n",
       "    </tr>\n",
       "  </thead>\n",
       "  <tbody>\n",
       "    <tr>\n",
       "      <th>0</th>\n",
       "      <td>BU79786</td>\n",
       "      <td>Washington</td>\n",
       "      <td>No</td>\n",
       "      <td>Basic</td>\n",
       "      <td>Bachelor</td>\n",
       "      <td>2/24/11</td>\n",
       "      <td>Employed</td>\n",
       "      <td>F</td>\n",
       "      <td>Suburban</td>\n",
       "      <td>Married</td>\n",
       "      <td>Corporate Auto</td>\n",
       "      <td>Corporate L3</td>\n",
       "      <td>Offer1</td>\n",
       "      <td>Agent</td>\n",
       "      <td>Two-Door Car</td>\n",
       "      <td>Medsize</td>\n",
       "    </tr>\n",
       "    <tr>\n",
       "      <th>2</th>\n",
       "      <td>AI49188</td>\n",
       "      <td>Nevada</td>\n",
       "      <td>No</td>\n",
       "      <td>Premium</td>\n",
       "      <td>Bachelor</td>\n",
       "      <td>2/19/11</td>\n",
       "      <td>Employed</td>\n",
       "      <td>F</td>\n",
       "      <td>Suburban</td>\n",
       "      <td>Married</td>\n",
       "      <td>Personal Auto</td>\n",
       "      <td>Personal L3</td>\n",
       "      <td>Offer1</td>\n",
       "      <td>Agent</td>\n",
       "      <td>Two-Door Car</td>\n",
       "      <td>Medsize</td>\n",
       "    </tr>\n",
       "    <tr>\n",
       "      <th>3</th>\n",
       "      <td>WW63253</td>\n",
       "      <td>California</td>\n",
       "      <td>No</td>\n",
       "      <td>Basic</td>\n",
       "      <td>Bachelor</td>\n",
       "      <td>1/20/11</td>\n",
       "      <td>Unemployed</td>\n",
       "      <td>M</td>\n",
       "      <td>Suburban</td>\n",
       "      <td>Married</td>\n",
       "      <td>Corporate Auto</td>\n",
       "      <td>Corporate L2</td>\n",
       "      <td>Offer1</td>\n",
       "      <td>Call Center</td>\n",
       "      <td>SUV</td>\n",
       "      <td>Medsize</td>\n",
       "    </tr>\n",
       "    <tr>\n",
       "      <th>4</th>\n",
       "      <td>HB64268</td>\n",
       "      <td>Washington</td>\n",
       "      <td>No</td>\n",
       "      <td>Basic</td>\n",
       "      <td>Bachelor</td>\n",
       "      <td>2/3/11</td>\n",
       "      <td>Employed</td>\n",
       "      <td>M</td>\n",
       "      <td>Rural</td>\n",
       "      <td>Single</td>\n",
       "      <td>Personal Auto</td>\n",
       "      <td>Personal L1</td>\n",
       "      <td>Offer1</td>\n",
       "      <td>Agent</td>\n",
       "      <td>Four-Door Car</td>\n",
       "      <td>Medsize</td>\n",
       "    </tr>\n",
       "    <tr>\n",
       "      <th>5</th>\n",
       "      <td>OC83172</td>\n",
       "      <td>Oregon</td>\n",
       "      <td>Yes</td>\n",
       "      <td>Basic</td>\n",
       "      <td>Bachelor</td>\n",
       "      <td>1/25/11</td>\n",
       "      <td>Employed</td>\n",
       "      <td>F</td>\n",
       "      <td>Rural</td>\n",
       "      <td>Married</td>\n",
       "      <td>Personal Auto</td>\n",
       "      <td>Personal L3</td>\n",
       "      <td>Offer2</td>\n",
       "      <td>Web</td>\n",
       "      <td>Two-Door Car</td>\n",
       "      <td>Medsize</td>\n",
       "    </tr>\n",
       "  </tbody>\n",
       "</table>\n",
       "</div>"
      ],
      "text/plain": [
       "  customer       state response coverage education effective to date  \\\n",
       "0  BU79786  Washington       No    Basic  Bachelor           2/24/11   \n",
       "2  AI49188      Nevada       No  Premium  Bachelor           2/19/11   \n",
       "3  WW63253  California       No    Basic  Bachelor           1/20/11   \n",
       "4  HB64268  Washington       No    Basic  Bachelor            2/3/11   \n",
       "5  OC83172      Oregon      Yes    Basic  Bachelor           1/25/11   \n",
       "\n",
       "  employmentstatus gender location code marital status     policy type  \\\n",
       "0         Employed      F      Suburban        Married  Corporate Auto   \n",
       "2         Employed      F      Suburban        Married   Personal Auto   \n",
       "3       Unemployed      M      Suburban        Married  Corporate Auto   \n",
       "4         Employed      M         Rural         Single   Personal Auto   \n",
       "5         Employed      F         Rural        Married   Personal Auto   \n",
       "\n",
       "         policy renew offer type sales channel  vehicle class vehicle size  \n",
       "0  Corporate L3           Offer1         Agent   Two-Door Car      Medsize  \n",
       "2   Personal L3           Offer1         Agent   Two-Door Car      Medsize  \n",
       "3  Corporate L2           Offer1   Call Center            SUV      Medsize  \n",
       "4   Personal L1           Offer1         Agent  Four-Door Car      Medsize  \n",
       "5   Personal L3           Offer2           Web   Two-Door Car      Medsize  "
      ]
     },
     "execution_count": 30,
     "metadata": {},
     "output_type": "execute_result"
    }
   ],
   "source": [
    "X_cat.head()"
   ]
  },
  {
   "cell_type": "code",
   "execution_count": 47,
   "id": "6653e548",
   "metadata": {},
   "outputs": [
    {
     "data": {
      "text/plain": [
       "datetime.date(2021, 8, 13)"
      ]
     },
     "execution_count": 47,
     "metadata": {},
     "output_type": "execute_result"
    }
   ],
   "source": [
    "import time\n",
    "from datetime import datetime\n",
    "\n",
    "today = date.today()\n",
    "today"
   ]
  },
  {
   "cell_type": "code",
   "execution_count": 45,
   "id": "07af3735",
   "metadata": {},
   "outputs": [
    {
     "data": {
      "text/plain": [
       "0    2/24/11\n",
       "2    2/19/11\n",
       "3    1/20/11\n",
       "4     2/3/11\n",
       "5    1/25/11\n",
       "Name: effective to date, dtype: object"
      ]
     },
     "execution_count": 45,
     "metadata": {},
     "output_type": "execute_result"
    }
   ],
   "source": [
    "string = marcusan['effective to date']\n",
    "string.replace('/',',')\n",
    "marcusan['effective to date'].head()"
   ]
  },
  {
   "cell_type": "code",
   "execution_count": 66,
   "id": "cd0a3416",
   "metadata": {},
   "outputs": [
    {
     "data": {
      "text/plain": [
       "customer                                 object\n",
       "state                                    object\n",
       "customer lifetime value                 float64\n",
       "response                                 object\n",
       "coverage                                 object\n",
       "education                                object\n",
       "effective to date                datetime64[ns]\n",
       "employmentstatus                         object\n",
       "gender                                   object\n",
       "income                                    int64\n",
       "location code                            object\n",
       "marital status                           object\n",
       "monthly premium auto                      int64\n",
       "months since last claim                   int64\n",
       "months since policy inception             int64\n",
       "number of open complaints                 int64\n",
       "number of policies                        int64\n",
       "policy type                              object\n",
       "policy                                   object\n",
       "renew offer type                         object\n",
       "sales channel                            object\n",
       "total claim amount                      float64\n",
       "vehicle class                            object\n",
       "vehicle size                             object\n",
       "total_claim_amount_log                  float64\n",
       "year                                      int64\n",
       "month                                     int64\n",
       "day                                       int64\n",
       "dtype: object"
      ]
     },
     "execution_count": 66,
     "metadata": {},
     "output_type": "execute_result"
    }
   ],
   "source": [
    "marcusan['effective to date'] = pd.to_datetime(marcusan['effective to date'], errors='coerce')\n",
    "marcusan.dtypes"
   ]
  },
  {
   "cell_type": "code",
   "execution_count": 61,
   "id": "8a7554a3",
   "metadata": {},
   "outputs": [
    {
     "name": "stdout",
     "output_type": "stream",
     "text": [
      "datetime64[ns]\n"
     ]
    }
   ],
   "source": [
    "print(marcusan['effective to date'].dtype)"
   ]
  },
  {
   "cell_type": "code",
   "execution_count": 62,
   "id": "dc3b0850",
   "metadata": {},
   "outputs": [],
   "source": [
    "marcusan['year'] = marcusan['effective to date'].dt.year"
   ]
  },
  {
   "cell_type": "code",
   "execution_count": 63,
   "id": "bba8dd24",
   "metadata": {},
   "outputs": [],
   "source": [
    "marcusan['month'] = marcusan['effective to date'].dt.month"
   ]
  },
  {
   "cell_type": "code",
   "execution_count": 64,
   "id": "9de6442a",
   "metadata": {},
   "outputs": [
    {
     "data": {
      "text/plain": [
       "0    24\n",
       "2    19\n",
       "3    20\n",
       "4     3\n",
       "5    25\n",
       "Name: day, dtype: int64"
      ]
     },
     "execution_count": 64,
     "metadata": {},
     "output_type": "execute_result"
    }
   ],
   "source": [
    "marcusan['day'] = marcusan['effective to date'].dt.day\n",
    "marcusan['day'].head()"
   ]
  },
  {
   "cell_type": "code",
   "execution_count": 78,
   "id": "86303d06",
   "metadata": {},
   "outputs": [
    {
     "ename": "AttributeError",
     "evalue": "'Series' object has no attribute 'month'",
     "output_type": "error",
     "traceback": [
      "\u001b[1;31m---------------------------------------------------------------------------\u001b[0m",
      "\u001b[1;31mAttributeError\u001b[0m                            Traceback (most recent call last)",
      "\u001b[1;32m<ipython-input-78-44cef2cd545c>\u001b[0m in \u001b[0;36m<module>\u001b[1;34m\u001b[0m\n\u001b[1;32m----> 1\u001b[1;33m \u001b[0mmarcusan\u001b[0m\u001b[1;33m[\u001b[0m\u001b[1;34m'effective to date'\u001b[0m\u001b[1;33m]\u001b[0m\u001b[1;33m.\u001b[0m\u001b[0mmonth\u001b[0m\u001b[1;33m\u001b[0m\u001b[1;33m\u001b[0m\u001b[0m\n\u001b[0m",
      "\u001b[1;32m~\\anaconda3\\lib\\site-packages\\pandas\\core\\generic.py\u001b[0m in \u001b[0;36m__getattr__\u001b[1;34m(self, name)\u001b[0m\n\u001b[0;32m   5463\u001b[0m             \u001b[1;32mif\u001b[0m \u001b[0mself\u001b[0m\u001b[1;33m.\u001b[0m\u001b[0m_info_axis\u001b[0m\u001b[1;33m.\u001b[0m\u001b[0m_can_hold_identifiers_and_holds_name\u001b[0m\u001b[1;33m(\u001b[0m\u001b[0mname\u001b[0m\u001b[1;33m)\u001b[0m\u001b[1;33m:\u001b[0m\u001b[1;33m\u001b[0m\u001b[1;33m\u001b[0m\u001b[0m\n\u001b[0;32m   5464\u001b[0m                 \u001b[1;32mreturn\u001b[0m \u001b[0mself\u001b[0m\u001b[1;33m[\u001b[0m\u001b[0mname\u001b[0m\u001b[1;33m]\u001b[0m\u001b[1;33m\u001b[0m\u001b[1;33m\u001b[0m\u001b[0m\n\u001b[1;32m-> 5465\u001b[1;33m             \u001b[1;32mreturn\u001b[0m \u001b[0mobject\u001b[0m\u001b[1;33m.\u001b[0m\u001b[0m__getattribute__\u001b[0m\u001b[1;33m(\u001b[0m\u001b[0mself\u001b[0m\u001b[1;33m,\u001b[0m \u001b[0mname\u001b[0m\u001b[1;33m)\u001b[0m\u001b[1;33m\u001b[0m\u001b[1;33m\u001b[0m\u001b[0m\n\u001b[0m\u001b[0;32m   5466\u001b[0m \u001b[1;33m\u001b[0m\u001b[0m\n\u001b[0;32m   5467\u001b[0m     \u001b[1;32mdef\u001b[0m \u001b[0m__setattr__\u001b[0m\u001b[1;33m(\u001b[0m\u001b[0mself\u001b[0m\u001b[1;33m,\u001b[0m \u001b[0mname\u001b[0m\u001b[1;33m:\u001b[0m \u001b[0mstr\u001b[0m\u001b[1;33m,\u001b[0m \u001b[0mvalue\u001b[0m\u001b[1;33m)\u001b[0m \u001b[1;33m->\u001b[0m \u001b[1;32mNone\u001b[0m\u001b[1;33m:\u001b[0m\u001b[1;33m\u001b[0m\u001b[1;33m\u001b[0m\u001b[0m\n",
      "\u001b[1;31mAttributeError\u001b[0m: 'Series' object has no attribute 'month'"
     ]
    }
   ],
   "source": [
    "marcusan['effective to date'].month"
   ]
  },
  {
   "cell_type": "code",
   "execution_count": 70,
   "id": "b6eae5e4",
   "metadata": {},
   "outputs": [
    {
     "data": {
      "text/plain": [
       "array(['Employed', 'Unemployed', 'Medical Leave', 'Disabled', 'Retired'],\n",
       "      dtype=object)"
      ]
     },
     "execution_count": 70,
     "metadata": {},
     "output_type": "execute_result"
    }
   ],
   "source": [
    "marcusan['employmentstatus'].unique()"
   ]
  },
  {
   "cell_type": "code",
   "execution_count": 74,
   "id": "d847602e",
   "metadata": {},
   "outputs": [
    {
     "name": "stderr",
     "output_type": "stream",
     "text": [
      "<ipython-input-74-c8b86ae48eab>:3: DeprecationWarning: `np.object` is a deprecated alias for the builtin `object`. To silence this warning, use `object` by itself. Doing this will not modify any behavior and is safe. \n",
      "Deprecated in NumPy 1.20; for more details and guidance: https://numpy.org/devdocs/release/1.20.0-notes.html#deprecations\n",
      "  X_cat = X.select_dtypes(include = np.object)\n"
     ]
    }
   ],
   "source": [
    "from sklearn.preprocessing import OneHotEncoder\n",
    "\n",
    "X_cat = X.select_dtypes(include = np.object)"
   ]
  },
  {
   "cell_type": "code",
   "execution_count": 80,
   "id": "8516aaf5",
   "metadata": {},
   "outputs": [
    {
     "data": {
      "text/html": [
       "<div>\n",
       "<style scoped>\n",
       "    .dataframe tbody tr th:only-of-type {\n",
       "        vertical-align: middle;\n",
       "    }\n",
       "\n",
       "    .dataframe tbody tr th {\n",
       "        vertical-align: top;\n",
       "    }\n",
       "\n",
       "    .dataframe thead th {\n",
       "        text-align: right;\n",
       "    }\n",
       "</style>\n",
       "<table border=\"1\" class=\"dataframe\">\n",
       "  <thead>\n",
       "    <tr style=\"text-align: right;\">\n",
       "      <th></th>\n",
       "      <th>customer</th>\n",
       "      <th>state</th>\n",
       "      <th>customer lifetime value</th>\n",
       "      <th>response</th>\n",
       "      <th>coverage</th>\n",
       "      <th>education</th>\n",
       "      <th>employmentstatus</th>\n",
       "      <th>gender</th>\n",
       "      <th>income</th>\n",
       "      <th>location code</th>\n",
       "      <th>...</th>\n",
       "      <th>policy</th>\n",
       "      <th>renew offer type</th>\n",
       "      <th>sales channel</th>\n",
       "      <th>total claim amount</th>\n",
       "      <th>vehicle class</th>\n",
       "      <th>vehicle size</th>\n",
       "      <th>total_claim_amount_log</th>\n",
       "      <th>year</th>\n",
       "      <th>month</th>\n",
       "      <th>day</th>\n",
       "    </tr>\n",
       "  </thead>\n",
       "  <tbody>\n",
       "    <tr>\n",
       "      <th>0</th>\n",
       "      <td>BU79786</td>\n",
       "      <td>Washington</td>\n",
       "      <td>2763.519279</td>\n",
       "      <td>No</td>\n",
       "      <td>Basic</td>\n",
       "      <td>Bachelor</td>\n",
       "      <td>Employed</td>\n",
       "      <td>F</td>\n",
       "      <td>56274</td>\n",
       "      <td>Suburban</td>\n",
       "      <td>...</td>\n",
       "      <td>Corporate L3</td>\n",
       "      <td>Offer1</td>\n",
       "      <td>Agent</td>\n",
       "      <td>384.811147</td>\n",
       "      <td>Two-Door Car</td>\n",
       "      <td>Medsize</td>\n",
       "      <td>2.585248</td>\n",
       "      <td>2011</td>\n",
       "      <td>2</td>\n",
       "      <td>24</td>\n",
       "    </tr>\n",
       "    <tr>\n",
       "      <th>2</th>\n",
       "      <td>AI49188</td>\n",
       "      <td>Nevada</td>\n",
       "      <td>12887.431650</td>\n",
       "      <td>No</td>\n",
       "      <td>Premium</td>\n",
       "      <td>Bachelor</td>\n",
       "      <td>Employed</td>\n",
       "      <td>F</td>\n",
       "      <td>48767</td>\n",
       "      <td>Suburban</td>\n",
       "      <td>...</td>\n",
       "      <td>Personal L3</td>\n",
       "      <td>Offer1</td>\n",
       "      <td>Agent</td>\n",
       "      <td>566.472247</td>\n",
       "      <td>Two-Door Car</td>\n",
       "      <td>Medsize</td>\n",
       "      <td>2.753179</td>\n",
       "      <td>2011</td>\n",
       "      <td>2</td>\n",
       "      <td>19</td>\n",
       "    </tr>\n",
       "    <tr>\n",
       "      <th>3</th>\n",
       "      <td>WW63253</td>\n",
       "      <td>California</td>\n",
       "      <td>7645.861827</td>\n",
       "      <td>No</td>\n",
       "      <td>Basic</td>\n",
       "      <td>Bachelor</td>\n",
       "      <td>Unemployed</td>\n",
       "      <td>M</td>\n",
       "      <td>0</td>\n",
       "      <td>Suburban</td>\n",
       "      <td>...</td>\n",
       "      <td>Corporate L2</td>\n",
       "      <td>Offer1</td>\n",
       "      <td>Call Center</td>\n",
       "      <td>529.881344</td>\n",
       "      <td>SUV</td>\n",
       "      <td>Medsize</td>\n",
       "      <td>2.724179</td>\n",
       "      <td>2011</td>\n",
       "      <td>1</td>\n",
       "      <td>20</td>\n",
       "    </tr>\n",
       "    <tr>\n",
       "      <th>4</th>\n",
       "      <td>HB64268</td>\n",
       "      <td>Washington</td>\n",
       "      <td>2813.692575</td>\n",
       "      <td>No</td>\n",
       "      <td>Basic</td>\n",
       "      <td>Bachelor</td>\n",
       "      <td>Employed</td>\n",
       "      <td>M</td>\n",
       "      <td>43836</td>\n",
       "      <td>Rural</td>\n",
       "      <td>...</td>\n",
       "      <td>Personal L1</td>\n",
       "      <td>Offer1</td>\n",
       "      <td>Agent</td>\n",
       "      <td>138.130879</td>\n",
       "      <td>Four-Door Car</td>\n",
       "      <td>Medsize</td>\n",
       "      <td>2.140291</td>\n",
       "      <td>2011</td>\n",
       "      <td>2</td>\n",
       "      <td>3</td>\n",
       "    </tr>\n",
       "    <tr>\n",
       "      <th>5</th>\n",
       "      <td>OC83172</td>\n",
       "      <td>Oregon</td>\n",
       "      <td>8256.297800</td>\n",
       "      <td>Yes</td>\n",
       "      <td>Basic</td>\n",
       "      <td>Bachelor</td>\n",
       "      <td>Employed</td>\n",
       "      <td>F</td>\n",
       "      <td>62902</td>\n",
       "      <td>Rural</td>\n",
       "      <td>...</td>\n",
       "      <td>Personal L3</td>\n",
       "      <td>Offer2</td>\n",
       "      <td>Web</td>\n",
       "      <td>159.383042</td>\n",
       "      <td>Two-Door Car</td>\n",
       "      <td>Medsize</td>\n",
       "      <td>2.202442</td>\n",
       "      <td>2011</td>\n",
       "      <td>1</td>\n",
       "      <td>25</td>\n",
       "    </tr>\n",
       "  </tbody>\n",
       "</table>\n",
       "<p>5 rows × 27 columns</p>\n",
       "</div>"
      ],
      "text/plain": [
       "  customer       state  customer lifetime value response coverage education  \\\n",
       "0  BU79786  Washington              2763.519279       No    Basic  Bachelor   \n",
       "2  AI49188      Nevada             12887.431650       No  Premium  Bachelor   \n",
       "3  WW63253  California              7645.861827       No    Basic  Bachelor   \n",
       "4  HB64268  Washington              2813.692575       No    Basic  Bachelor   \n",
       "5  OC83172      Oregon              8256.297800      Yes    Basic  Bachelor   \n",
       "\n",
       "  employmentstatus gender  income location code  ...        policy  \\\n",
       "0         Employed      F   56274      Suburban  ...  Corporate L3   \n",
       "2         Employed      F   48767      Suburban  ...   Personal L3   \n",
       "3       Unemployed      M       0      Suburban  ...  Corporate L2   \n",
       "4         Employed      M   43836         Rural  ...   Personal L1   \n",
       "5         Employed      F   62902         Rural  ...   Personal L3   \n",
       "\n",
       "   renew offer type  sales channel  total claim amount  vehicle class  \\\n",
       "0            Offer1          Agent          384.811147   Two-Door Car   \n",
       "2            Offer1          Agent          566.472247   Two-Door Car   \n",
       "3            Offer1    Call Center          529.881344            SUV   \n",
       "4            Offer1          Agent          138.130879  Four-Door Car   \n",
       "5            Offer2            Web          159.383042   Two-Door Car   \n",
       "\n",
       "   vehicle size total_claim_amount_log  year month day  \n",
       "0       Medsize               2.585248  2011     2  24  \n",
       "2       Medsize               2.753179  2011     2  19  \n",
       "3       Medsize               2.724179  2011     1  20  \n",
       "4       Medsize               2.140291  2011     2   3  \n",
       "5       Medsize               2.202442  2011     1  25  \n",
       "\n",
       "[5 rows x 27 columns]"
      ]
     },
     "execution_count": 80,
     "metadata": {},
     "output_type": "execute_result"
    }
   ],
   "source": [
    "marcusan = marcusan.drop(['effective to date'], axis=1)\n",
    "marcusan.head()"
   ]
  },
  {
   "cell_type": "code",
   "execution_count": 81,
   "id": "22c363fe",
   "metadata": {},
   "outputs": [
    {
     "data": {
      "text/plain": [
       "0       BU79786\n",
       "2       AI49188\n",
       "3       WW63253\n",
       "4       HB64268\n",
       "5       OC83172\n",
       "         ...   \n",
       "9129    LA72316\n",
       "9130    PK87824\n",
       "9131    TD14365\n",
       "9132    UP19263\n",
       "9133    Y167826\n",
       "Name: customer, Length: 8444, dtype: object"
      ]
     },
     "execution_count": 81,
     "metadata": {},
     "output_type": "execute_result"
    }
   ],
   "source": [
    "marcusan['customer']"
   ]
  },
  {
   "cell_type": "code",
   "execution_count": null,
   "id": "9bc22538",
   "metadata": {},
   "outputs": [],
   "source": []
  }
 ],
 "metadata": {
  "kernelspec": {
   "display_name": "Python 3",
   "language": "python",
   "name": "python3"
  },
  "language_info": {
   "codemirror_mode": {
    "name": "ipython",
    "version": 3
   },
   "file_extension": ".py",
   "mimetype": "text/x-python",
   "name": "python",
   "nbconvert_exporter": "python",
   "pygments_lexer": "ipython3",
   "version": "3.8.8"
  }
 },
 "nbformat": 4,
 "nbformat_minor": 5
}
